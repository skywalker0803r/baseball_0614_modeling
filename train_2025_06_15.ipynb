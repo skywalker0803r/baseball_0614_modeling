{
  "cells": [
    {
      "cell_type": "code",
      "source": [
        "from google.colab import drive\n",
        "drive.mount('/content/drive')"
      ],
      "metadata": {
        "id": "uIyRDC_8-Zqz",
        "outputId": "5bec14b4-c09e-4481-ef2f-5b6e823ebc5d",
        "colab": {
          "base_uri": "https://localhost:8080/"
        }
      },
      "id": "uIyRDC_8-Zqz",
      "execution_count": 135,
      "outputs": [
        {
          "output_type": "stream",
          "name": "stdout",
          "text": [
            "Drive already mounted at /content/drive; to attempt to forcibly remount, call drive.mount(\"/content/drive\", force_remount=True).\n"
          ]
        }
      ]
    },
    {
      "cell_type": "code",
      "execution_count": 136,
      "id": "88cbcd66",
      "metadata": {
        "id": "88cbcd66",
        "outputId": "dfa4f5c8-215c-48a3-ec9d-95b8b05fb932",
        "colab": {
          "base_uri": "https://localhost:8080/",
          "height": 423
        }
      },
      "outputs": [
        {
          "output_type": "execute_result",
          "data": {
            "text/plain": [
              "           filename                                            feature  label\n",
              "0    pitch_0001.npy  [[[691.1320190429688, 235.2571563720703, 2.0],...      0\n",
              "1    pitch_0004.npy  [[[587.7108764648438, 172.42237854003906, 2.0]...      0\n",
              "2    pitch_0002.npy  [[[813.0626220703125, 451.5915222167969, 2.0],...      1\n",
              "3    pitch_0003.npy  [[[598.640625, 222.2551727294922, 2.0], [678.2...      1\n",
              "4    pitch_0005.npy  [[[414.9808044433594, 319.226318359375, 2.0], ...      1\n",
              "..              ...                                                ...    ...\n",
              "195  pitch_0196.npy  [[[789.1077270507812, 342.8899841308594, 2.0],...      0\n",
              "196  pitch_0197.npy  [[[483.5071105957031, 309.3092346191406, 2.0],...      1\n",
              "197  pitch_0198.npy  [[[744.2942504882812, 264.4396667480469, 2.0],...      0\n",
              "198  pitch_0199.npy  [[[486.62567138671875, 323.85498046875, 2.0], ...      0\n",
              "199  pitch_0200.npy  [[[485.3872375488281, 323.2713317871094, 2.0],...      1\n",
              "\n",
              "[200 rows x 3 columns]"
            ],
            "text/html": [
              "\n",
              "  <div id=\"df-2d950ea1-b286-4ccc-ae4d-610b95a61c48\" class=\"colab-df-container\">\n",
              "    <div>\n",
              "<style scoped>\n",
              "    .dataframe tbody tr th:only-of-type {\n",
              "        vertical-align: middle;\n",
              "    }\n",
              "\n",
              "    .dataframe tbody tr th {\n",
              "        vertical-align: top;\n",
              "    }\n",
              "\n",
              "    .dataframe thead th {\n",
              "        text-align: right;\n",
              "    }\n",
              "</style>\n",
              "<table border=\"1\" class=\"dataframe\">\n",
              "  <thead>\n",
              "    <tr style=\"text-align: right;\">\n",
              "      <th></th>\n",
              "      <th>filename</th>\n",
              "      <th>feature</th>\n",
              "      <th>label</th>\n",
              "    </tr>\n",
              "  </thead>\n",
              "  <tbody>\n",
              "    <tr>\n",
              "      <th>0</th>\n",
              "      <td>pitch_0001.npy</td>\n",
              "      <td>[[[691.1320190429688, 235.2571563720703, 2.0],...</td>\n",
              "      <td>0</td>\n",
              "    </tr>\n",
              "    <tr>\n",
              "      <th>1</th>\n",
              "      <td>pitch_0004.npy</td>\n",
              "      <td>[[[587.7108764648438, 172.42237854003906, 2.0]...</td>\n",
              "      <td>0</td>\n",
              "    </tr>\n",
              "    <tr>\n",
              "      <th>2</th>\n",
              "      <td>pitch_0002.npy</td>\n",
              "      <td>[[[813.0626220703125, 451.5915222167969, 2.0],...</td>\n",
              "      <td>1</td>\n",
              "    </tr>\n",
              "    <tr>\n",
              "      <th>3</th>\n",
              "      <td>pitch_0003.npy</td>\n",
              "      <td>[[[598.640625, 222.2551727294922, 2.0], [678.2...</td>\n",
              "      <td>1</td>\n",
              "    </tr>\n",
              "    <tr>\n",
              "      <th>4</th>\n",
              "      <td>pitch_0005.npy</td>\n",
              "      <td>[[[414.9808044433594, 319.226318359375, 2.0], ...</td>\n",
              "      <td>1</td>\n",
              "    </tr>\n",
              "    <tr>\n",
              "      <th>...</th>\n",
              "      <td>...</td>\n",
              "      <td>...</td>\n",
              "      <td>...</td>\n",
              "    </tr>\n",
              "    <tr>\n",
              "      <th>195</th>\n",
              "      <td>pitch_0196.npy</td>\n",
              "      <td>[[[789.1077270507812, 342.8899841308594, 2.0],...</td>\n",
              "      <td>0</td>\n",
              "    </tr>\n",
              "    <tr>\n",
              "      <th>196</th>\n",
              "      <td>pitch_0197.npy</td>\n",
              "      <td>[[[483.5071105957031, 309.3092346191406, 2.0],...</td>\n",
              "      <td>1</td>\n",
              "    </tr>\n",
              "    <tr>\n",
              "      <th>197</th>\n",
              "      <td>pitch_0198.npy</td>\n",
              "      <td>[[[744.2942504882812, 264.4396667480469, 2.0],...</td>\n",
              "      <td>0</td>\n",
              "    </tr>\n",
              "    <tr>\n",
              "      <th>198</th>\n",
              "      <td>pitch_0199.npy</td>\n",
              "      <td>[[[486.62567138671875, 323.85498046875, 2.0], ...</td>\n",
              "      <td>0</td>\n",
              "    </tr>\n",
              "    <tr>\n",
              "      <th>199</th>\n",
              "      <td>pitch_0200.npy</td>\n",
              "      <td>[[[485.3872375488281, 323.2713317871094, 2.0],...</td>\n",
              "      <td>1</td>\n",
              "    </tr>\n",
              "  </tbody>\n",
              "</table>\n",
              "<p>200 rows × 3 columns</p>\n",
              "</div>\n",
              "    <div class=\"colab-df-buttons\">\n",
              "\n",
              "  <div class=\"colab-df-container\">\n",
              "    <button class=\"colab-df-convert\" onclick=\"convertToInteractive('df-2d950ea1-b286-4ccc-ae4d-610b95a61c48')\"\n",
              "            title=\"Convert this dataframe to an interactive table.\"\n",
              "            style=\"display:none;\">\n",
              "\n",
              "  <svg xmlns=\"http://www.w3.org/2000/svg\" height=\"24px\" viewBox=\"0 -960 960 960\">\n",
              "    <path d=\"M120-120v-720h720v720H120Zm60-500h600v-160H180v160Zm220 220h160v-160H400v160Zm0 220h160v-160H400v160ZM180-400h160v-160H180v160Zm440 0h160v-160H620v160ZM180-180h160v-160H180v160Zm440 0h160v-160H620v160Z\"/>\n",
              "  </svg>\n",
              "    </button>\n",
              "\n",
              "  <style>\n",
              "    .colab-df-container {\n",
              "      display:flex;\n",
              "      gap: 12px;\n",
              "    }\n",
              "\n",
              "    .colab-df-convert {\n",
              "      background-color: #E8F0FE;\n",
              "      border: none;\n",
              "      border-radius: 50%;\n",
              "      cursor: pointer;\n",
              "      display: none;\n",
              "      fill: #1967D2;\n",
              "      height: 32px;\n",
              "      padding: 0 0 0 0;\n",
              "      width: 32px;\n",
              "    }\n",
              "\n",
              "    .colab-df-convert:hover {\n",
              "      background-color: #E2EBFA;\n",
              "      box-shadow: 0px 1px 2px rgba(60, 64, 67, 0.3), 0px 1px 3px 1px rgba(60, 64, 67, 0.15);\n",
              "      fill: #174EA6;\n",
              "    }\n",
              "\n",
              "    .colab-df-buttons div {\n",
              "      margin-bottom: 4px;\n",
              "    }\n",
              "\n",
              "    [theme=dark] .colab-df-convert {\n",
              "      background-color: #3B4455;\n",
              "      fill: #D2E3FC;\n",
              "    }\n",
              "\n",
              "    [theme=dark] .colab-df-convert:hover {\n",
              "      background-color: #434B5C;\n",
              "      box-shadow: 0px 1px 3px 1px rgba(0, 0, 0, 0.15);\n",
              "      filter: drop-shadow(0px 1px 2px rgba(0, 0, 0, 0.3));\n",
              "      fill: #FFFFFF;\n",
              "    }\n",
              "  </style>\n",
              "\n",
              "    <script>\n",
              "      const buttonEl =\n",
              "        document.querySelector('#df-2d950ea1-b286-4ccc-ae4d-610b95a61c48 button.colab-df-convert');\n",
              "      buttonEl.style.display =\n",
              "        google.colab.kernel.accessAllowed ? 'block' : 'none';\n",
              "\n",
              "      async function convertToInteractive(key) {\n",
              "        const element = document.querySelector('#df-2d950ea1-b286-4ccc-ae4d-610b95a61c48');\n",
              "        const dataTable =\n",
              "          await google.colab.kernel.invokeFunction('convertToInteractive',\n",
              "                                                    [key], {});\n",
              "        if (!dataTable) return;\n",
              "\n",
              "        const docLinkHtml = 'Like what you see? Visit the ' +\n",
              "          '<a target=\"_blank\" href=https://colab.research.google.com/notebooks/data_table.ipynb>data table notebook</a>'\n",
              "          + ' to learn more about interactive tables.';\n",
              "        element.innerHTML = '';\n",
              "        dataTable['output_type'] = 'display_data';\n",
              "        await google.colab.output.renderOutput(dataTable, element);\n",
              "        const docLink = document.createElement('div');\n",
              "        docLink.innerHTML = docLinkHtml;\n",
              "        element.appendChild(docLink);\n",
              "      }\n",
              "    </script>\n",
              "  </div>\n",
              "\n",
              "\n",
              "    <div id=\"df-54706f62-f30c-410c-a5ef-e6858e4e2486\">\n",
              "      <button class=\"colab-df-quickchart\" onclick=\"quickchart('df-54706f62-f30c-410c-a5ef-e6858e4e2486')\"\n",
              "                title=\"Suggest charts\"\n",
              "                style=\"display:none;\">\n",
              "\n",
              "<svg xmlns=\"http://www.w3.org/2000/svg\" height=\"24px\"viewBox=\"0 0 24 24\"\n",
              "     width=\"24px\">\n",
              "    <g>\n",
              "        <path d=\"M19 3H5c-1.1 0-2 .9-2 2v14c0 1.1.9 2 2 2h14c1.1 0 2-.9 2-2V5c0-1.1-.9-2-2-2zM9 17H7v-7h2v7zm4 0h-2V7h2v10zm4 0h-2v-4h2v4z\"/>\n",
              "    </g>\n",
              "</svg>\n",
              "      </button>\n",
              "\n",
              "<style>\n",
              "  .colab-df-quickchart {\n",
              "      --bg-color: #E8F0FE;\n",
              "      --fill-color: #1967D2;\n",
              "      --hover-bg-color: #E2EBFA;\n",
              "      --hover-fill-color: #174EA6;\n",
              "      --disabled-fill-color: #AAA;\n",
              "      --disabled-bg-color: #DDD;\n",
              "  }\n",
              "\n",
              "  [theme=dark] .colab-df-quickchart {\n",
              "      --bg-color: #3B4455;\n",
              "      --fill-color: #D2E3FC;\n",
              "      --hover-bg-color: #434B5C;\n",
              "      --hover-fill-color: #FFFFFF;\n",
              "      --disabled-bg-color: #3B4455;\n",
              "      --disabled-fill-color: #666;\n",
              "  }\n",
              "\n",
              "  .colab-df-quickchart {\n",
              "    background-color: var(--bg-color);\n",
              "    border: none;\n",
              "    border-radius: 50%;\n",
              "    cursor: pointer;\n",
              "    display: none;\n",
              "    fill: var(--fill-color);\n",
              "    height: 32px;\n",
              "    padding: 0;\n",
              "    width: 32px;\n",
              "  }\n",
              "\n",
              "  .colab-df-quickchart:hover {\n",
              "    background-color: var(--hover-bg-color);\n",
              "    box-shadow: 0 1px 2px rgba(60, 64, 67, 0.3), 0 1px 3px 1px rgba(60, 64, 67, 0.15);\n",
              "    fill: var(--button-hover-fill-color);\n",
              "  }\n",
              "\n",
              "  .colab-df-quickchart-complete:disabled,\n",
              "  .colab-df-quickchart-complete:disabled:hover {\n",
              "    background-color: var(--disabled-bg-color);\n",
              "    fill: var(--disabled-fill-color);\n",
              "    box-shadow: none;\n",
              "  }\n",
              "\n",
              "  .colab-df-spinner {\n",
              "    border: 2px solid var(--fill-color);\n",
              "    border-color: transparent;\n",
              "    border-bottom-color: var(--fill-color);\n",
              "    animation:\n",
              "      spin 1s steps(1) infinite;\n",
              "  }\n",
              "\n",
              "  @keyframes spin {\n",
              "    0% {\n",
              "      border-color: transparent;\n",
              "      border-bottom-color: var(--fill-color);\n",
              "      border-left-color: var(--fill-color);\n",
              "    }\n",
              "    20% {\n",
              "      border-color: transparent;\n",
              "      border-left-color: var(--fill-color);\n",
              "      border-top-color: var(--fill-color);\n",
              "    }\n",
              "    30% {\n",
              "      border-color: transparent;\n",
              "      border-left-color: var(--fill-color);\n",
              "      border-top-color: var(--fill-color);\n",
              "      border-right-color: var(--fill-color);\n",
              "    }\n",
              "    40% {\n",
              "      border-color: transparent;\n",
              "      border-right-color: var(--fill-color);\n",
              "      border-top-color: var(--fill-color);\n",
              "    }\n",
              "    60% {\n",
              "      border-color: transparent;\n",
              "      border-right-color: var(--fill-color);\n",
              "    }\n",
              "    80% {\n",
              "      border-color: transparent;\n",
              "      border-right-color: var(--fill-color);\n",
              "      border-bottom-color: var(--fill-color);\n",
              "    }\n",
              "    90% {\n",
              "      border-color: transparent;\n",
              "      border-bottom-color: var(--fill-color);\n",
              "    }\n",
              "  }\n",
              "</style>\n",
              "\n",
              "      <script>\n",
              "        async function quickchart(key) {\n",
              "          const quickchartButtonEl =\n",
              "            document.querySelector('#' + key + ' button');\n",
              "          quickchartButtonEl.disabled = true;  // To prevent multiple clicks.\n",
              "          quickchartButtonEl.classList.add('colab-df-spinner');\n",
              "          try {\n",
              "            const charts = await google.colab.kernel.invokeFunction(\n",
              "                'suggestCharts', [key], {});\n",
              "          } catch (error) {\n",
              "            console.error('Error during call to suggestCharts:', error);\n",
              "          }\n",
              "          quickchartButtonEl.classList.remove('colab-df-spinner');\n",
              "          quickchartButtonEl.classList.add('colab-df-quickchart-complete');\n",
              "        }\n",
              "        (() => {\n",
              "          let quickchartButtonEl =\n",
              "            document.querySelector('#df-54706f62-f30c-410c-a5ef-e6858e4e2486 button');\n",
              "          quickchartButtonEl.style.display =\n",
              "            google.colab.kernel.accessAllowed ? 'block' : 'none';\n",
              "        })();\n",
              "      </script>\n",
              "    </div>\n",
              "\n",
              "  <div id=\"id_b718aeea-7fbe-44ba-93db-ab6e1df8f80b\">\n",
              "    <style>\n",
              "      .colab-df-generate {\n",
              "        background-color: #E8F0FE;\n",
              "        border: none;\n",
              "        border-radius: 50%;\n",
              "        cursor: pointer;\n",
              "        display: none;\n",
              "        fill: #1967D2;\n",
              "        height: 32px;\n",
              "        padding: 0 0 0 0;\n",
              "        width: 32px;\n",
              "      }\n",
              "\n",
              "      .colab-df-generate:hover {\n",
              "        background-color: #E2EBFA;\n",
              "        box-shadow: 0px 1px 2px rgba(60, 64, 67, 0.3), 0px 1px 3px 1px rgba(60, 64, 67, 0.15);\n",
              "        fill: #174EA6;\n",
              "      }\n",
              "\n",
              "      [theme=dark] .colab-df-generate {\n",
              "        background-color: #3B4455;\n",
              "        fill: #D2E3FC;\n",
              "      }\n",
              "\n",
              "      [theme=dark] .colab-df-generate:hover {\n",
              "        background-color: #434B5C;\n",
              "        box-shadow: 0px 1px 3px 1px rgba(0, 0, 0, 0.15);\n",
              "        filter: drop-shadow(0px 1px 2px rgba(0, 0, 0, 0.3));\n",
              "        fill: #FFFFFF;\n",
              "      }\n",
              "    </style>\n",
              "    <button class=\"colab-df-generate\" onclick=\"generateWithVariable('df')\"\n",
              "            title=\"Generate code using this dataframe.\"\n",
              "            style=\"display:none;\">\n",
              "\n",
              "  <svg xmlns=\"http://www.w3.org/2000/svg\" height=\"24px\"viewBox=\"0 0 24 24\"\n",
              "       width=\"24px\">\n",
              "    <path d=\"M7,19H8.4L18.45,9,17,7.55,7,17.6ZM5,21V16.75L18.45,3.32a2,2,0,0,1,2.83,0l1.4,1.43a1.91,1.91,0,0,1,.58,1.4,1.91,1.91,0,0,1-.58,1.4L9.25,21ZM18.45,9,17,7.55Zm-12,3A5.31,5.31,0,0,0,4.9,8.1,5.31,5.31,0,0,0,1,6.5,5.31,5.31,0,0,0,4.9,4.9,5.31,5.31,0,0,0,6.5,1,5.31,5.31,0,0,0,8.1,4.9,5.31,5.31,0,0,0,12,6.5,5.46,5.46,0,0,0,6.5,12Z\"/>\n",
              "  </svg>\n",
              "    </button>\n",
              "    <script>\n",
              "      (() => {\n",
              "      const buttonEl =\n",
              "        document.querySelector('#id_b718aeea-7fbe-44ba-93db-ab6e1df8f80b button.colab-df-generate');\n",
              "      buttonEl.style.display =\n",
              "        google.colab.kernel.accessAllowed ? 'block' : 'none';\n",
              "\n",
              "      buttonEl.onclick = () => {\n",
              "        google.colab.notebook.generateWithVariable('df');\n",
              "      }\n",
              "      })();\n",
              "    </script>\n",
              "  </div>\n",
              "\n",
              "    </div>\n",
              "  </div>\n"
            ],
            "application/vnd.google.colaboratory.intrinsic+json": {
              "type": "dataframe",
              "variable_name": "df",
              "summary": "{\n  \"name\": \"df\",\n  \"rows\": 200,\n  \"fields\": [\n    {\n      \"column\": \"filename\",\n      \"properties\": {\n        \"dtype\": \"string\",\n        \"num_unique_values\": 200,\n        \"samples\": [\n          \"pitch_0096.npy\",\n          \"pitch_0017.npy\",\n          \"pitch_0031.npy\"\n        ],\n        \"semantic_type\": \"\",\n        \"description\": \"\"\n      }\n    },\n    {\n      \"column\": \"feature\",\n      \"properties\": {\n        \"dtype\": \"object\",\n        \"semantic_type\": \"\",\n        \"description\": \"\"\n      }\n    },\n    {\n      \"column\": \"label\",\n      \"properties\": {\n        \"dtype\": \"number\",\n        \"std\": 0,\n        \"min\": 0,\n        \"max\": 1,\n        \"num_unique_values\": 2,\n        \"samples\": [\n          1,\n          0\n        ],\n        \"semantic_type\": \"\",\n        \"description\": \"\"\n      }\n    }\n  ]\n}"
            }
          },
          "metadata": {},
          "execution_count": 136
        }
      ],
      "source": [
        "import os\n",
        "import numpy as np\n",
        "import pandas as pd\n",
        "from collections import Counter\n",
        "\n",
        "def pad_and_flatten_features(features, max_len=None):\n",
        "    \"\"\"\n",
        "    features: list of np.array, each shape like (T_i, 17, 3)\n",
        "    max_len: int or None, padding後的最大時間軸長度，None代表用目前最大長度\n",
        "    \"\"\"\n",
        "\n",
        "    # 找最大長度 (若沒指定)\n",
        "    if max_len is None:\n",
        "        max_len = max(f.shape[0] for f in features)\n",
        "\n",
        "    padded_features = []\n",
        "    for f in features:\n",
        "        T, J, C = f.shape\n",
        "        if T < max_len:\n",
        "            # pad zeros 到 max_len\n",
        "            pad_width = ((0, max_len - T), (0, 0), (0, 0))\n",
        "            f_padded = np.pad(f, pad_width=pad_width, mode='constant', constant_values=0)\n",
        "        else:\n",
        "            f_padded = f[:max_len]  # 如果長度超過 max_len，截斷\n",
        "\n",
        "        # flatten 成 1維向量\n",
        "        f_flat = f_padded.flatten()\n",
        "        padded_features.append(f_flat)\n",
        "\n",
        "    return np.array(padded_features)\n",
        "\n",
        "def build_feature_label_dataframe(npy_folder, csv_path):\n",
        "    # 讀取描述的 CSV\n",
        "    df_csv = pd.read_csv(csv_path)\n",
        "\n",
        "    data = []\n",
        "\n",
        "    # 遍歷每個 .npy 檔案\n",
        "    for file in os.listdir(npy_folder):\n",
        "        if file.endswith('.npy'):\n",
        "            base_name = os.path.splitext(file)[0]  # 去掉 .npy\n",
        "            video_filename = base_name + '.mp4'    # 在 CSV 中查找\n",
        "\n",
        "            # 找出對應的 label\n",
        "            match = df_csv[df_csv['Filename'] == video_filename]\n",
        "\n",
        "            if not match.empty:\n",
        "                label = match.iloc[0]['description']\n",
        "                feature_path = os.path.join(npy_folder, file)\n",
        "                feature = np.load(feature_path)\n",
        "\n",
        "                data.append({\n",
        "                    'filename': file,\n",
        "                    'feature': feature,\n",
        "                    'label': label\n",
        "                })\n",
        "            else:\n",
        "                print(f\"⚠️ 無法在 CSV 中找到 {video_filename}\")\n",
        "\n",
        "    # 組成 DataFrame\n",
        "    df = pd.DataFrame(data)\n",
        "    return df\n",
        "\n",
        "def convert_feature_to_dict(feature_array):\n",
        "    n_frames = feature_array.shape[0]\n",
        "    pose_sequence = []\n",
        "    for frame_idx in range(len(feature_array)):\n",
        "        pose_sequence.append({\n",
        "            \"frame\":frame_idx,\n",
        "            \"keypoints\":feature_array[frame_idx]\n",
        "        })\n",
        "    return pose_sequence\n",
        "\n",
        "df = build_feature_label_dataframe('/content/drive/MyDrive/Baseball Movies/Gerrit_Cole_SL_videos_4S/npy','/content/drive/MyDrive/Baseball Movies/data_csv/Gerrit_Cole_SL.csv')\n",
        "df['label'] = df['label'].str.contains('strike', case=False).astype(int)\n",
        "df"
      ]
    },
    {
      "cell_type": "markdown",
      "source": [
        "✅ pose_simclr.py 完整檔案"
      ],
      "metadata": {
        "id": "SIrOTDHxH7fJ"
      },
      "id": "SIrOTDHxH7fJ"
    },
    {
      "cell_type": "code",
      "source": [
        "import torch\n",
        "import torch.nn as nn\n",
        "import torch.nn.functional as F\n",
        "from torch.utils.data import Dataset, DataLoader\n",
        "import numpy as np\n",
        "from sklearn.metrics import classification_report, confusion_matrix, accuracy_score\n",
        "import matplotlib.pyplot as plt\n",
        "import seaborn as sns\n",
        "from tqdm import tqdm\n",
        "\n",
        "# ---------- Pose Preprocessor ----------\n",
        "\n",
        "class PosePreprocessor:\n",
        "    def __init__(self, target_frames=240):\n",
        "        self.target_frames = target_frames\n",
        "\n",
        "    def normalize_skeleton(self, pose):\n",
        "        pelvis = (pose[:, 11] + pose[:, 12]) / 2\n",
        "        pose = pose - pelvis[:, None, :]\n",
        "        ref_length = np.linalg.norm(pose[:, 0] - pose[:, 15], axis=1)\n",
        "        ref_length = ref_length[:, None, None] + 1e-6\n",
        "        pose = pose / ref_length\n",
        "        return pose\n",
        "\n",
        "    def temporal_crop_or_pad(self, pose):\n",
        "        T = pose.shape[0]\n",
        "        if T > self.target_frames:\n",
        "            start = np.random.randint(0, T - self.target_frames)\n",
        "            pose = pose[start:start + self.target_frames]\n",
        "        elif T < self.target_frames:\n",
        "            pad = np.zeros((self.target_frames - T, 17, 3))\n",
        "            pose = np.concatenate([pose, pad], axis=0)\n",
        "        return pose\n",
        "\n",
        "    def __call__(self, pose):\n",
        "        pose = self.normalize_skeleton(pose)\n",
        "        pose = self.temporal_crop_or_pad(pose)\n",
        "        return pose\n",
        "\n",
        "# ---------- SimCLR Augmentation ----------\n",
        "\n",
        "class PoseSimCLRAugmentation:\n",
        "    def __init__(self, noise_std=0.01, flip_prob=0.5):\n",
        "        self.noise_std = noise_std\n",
        "        self.flip_prob = flip_prob\n",
        "\n",
        "    def _augment(self, pose):\n",
        "        noise = np.random.normal(0, self.noise_std, pose.shape)\n",
        "        pose = pose + noise\n",
        "        if np.random.rand() < self.flip_prob:\n",
        "            pose[..., 0] *= -1\n",
        "        return pose\n",
        "\n",
        "    def __call__(self, pose):\n",
        "        return self._augment(pose), self._augment(pose)\n",
        "\n",
        "# ---------- Datasets ----------\n",
        "\n",
        "class SimCLRDataset(Dataset):\n",
        "    def __init__(self, df, preprocess, augmentation):\n",
        "        self.df = df\n",
        "        self.preprocess = preprocess\n",
        "        self.augmentation = augmentation\n",
        "\n",
        "    def __len__(self):\n",
        "        return len(self.df)\n",
        "\n",
        "    def __getitem__(self, idx):\n",
        "        pose = self.preprocess(self.df.iloc[idx]['feature'])\n",
        "        aug1, aug2 = self.augmentation(pose)\n",
        "        return torch.tensor(aug1).float(), torch.tensor(aug2).float()\n",
        "\n",
        "class ClassificationDataset(Dataset):\n",
        "    def __init__(self, df, preprocess):\n",
        "        self.df = df\n",
        "        self.preprocess = preprocess\n",
        "\n",
        "    def __len__(self):\n",
        "        return len(self.df)\n",
        "\n",
        "    def __getitem__(self, idx):\n",
        "        pose = self.preprocess(self.df.iloc[idx]['feature'])\n",
        "        label = self.df.iloc[idx]['label']\n",
        "        return torch.tensor(pose).float(), torch.tensor(label).long()\n",
        "\n",
        "# ---------- Encoder ----------\n",
        "\n",
        "class PoseEncoder(nn.Module):\n",
        "    def __init__(self, input_size=3, hidden_size=128, proj_size=64):\n",
        "        super().__init__()\n",
        "        self.encoder = nn.Sequential(\n",
        "            nn.Conv1d(17 * input_size, 128, kernel_size=3, padding=1),\n",
        "            nn.ReLU(),\n",
        "            nn.AdaptiveAvgPool1d(1),\n",
        "            nn.Flatten(),\n",
        "            nn.Linear(128, hidden_size),\n",
        "            nn.ReLU()\n",
        "        )\n",
        "        self.projector = nn.Linear(hidden_size, proj_size)  # 只線性，不加ReLU\n",
        "\n",
        "    def forward(self, x, return_proj=True):\n",
        "        x = x.permute(0, 2, 1, 3)  # [B, 3, T, 17]\n",
        "        x = x.reshape(x.size(0), -1, x.size(2))  # [B, 3*17, T]\n",
        "        feat = self.encoder(x)  # [B, hidden]\n",
        "        if return_proj:\n",
        "            z = self.projector(feat)  # [B, proj]\n",
        "            return F.normalize(z, dim=1)\n",
        "        else:\n",
        "            return feat  # 用於分類器輸入\n",
        "\n",
        "# ---------- SimCLR Loss ----------\n",
        "\n",
        "class NTXentLoss(nn.Module):\n",
        "    def __init__(self, temperature=0.5, device='cuda'):\n",
        "        super().__init__()\n",
        "        self.temperature = temperature\n",
        "        self.device = device\n",
        "        self.criterion = nn.CrossEntropyLoss(reduction=\"sum\")\n",
        "        self.similarity_f = nn.CosineSimilarity(dim=2)\n",
        "\n",
        "    def _get_correlated_mask(self, batch_size):\n",
        "        N = 2 * batch_size\n",
        "        mask = torch.ones((N, N), dtype=bool)\n",
        "        mask.fill_diagonal_(False)\n",
        "        for i in range(batch_size):\n",
        "            mask[i, i + batch_size] = False\n",
        "            mask[i + batch_size, i] = False\n",
        "        return mask\n",
        "\n",
        "    def forward(self, z_i, z_j):\n",
        "        batch_size = z_i.size(0)\n",
        "        N = 2 * batch_size\n",
        "        z = torch.cat([z_i, z_j], dim=0)\n",
        "        sim = self.similarity_f(z.unsqueeze(1), z.unsqueeze(0)) / self.temperature\n",
        "\n",
        "        sim_i_j = torch.diag(sim, batch_size)\n",
        "        sim_j_i = torch.diag(sim, -batch_size)\n",
        "        positives = torch.cat([sim_i_j, sim_j_i], dim=0)\n",
        "\n",
        "        mask = self._get_correlated_mask(batch_size).to(self.device)\n",
        "        negatives = sim[mask].view(N, -1)\n",
        "\n",
        "        labels = torch.zeros(N).to(self.device).long()\n",
        "        logits = torch.cat([positives.unsqueeze(1), negatives], dim=1)\n",
        "        loss = self.criterion(logits, labels)\n",
        "        loss /= N\n",
        "        return loss\n",
        "\n",
        "\n",
        "\n",
        "# ---------- Training ----------\n",
        "\n",
        "def train_simclr(encoder, loader, epochs=20, device='cuda'):\n",
        "    encoder = encoder.to(device)\n",
        "    optimizer = torch.optim.Adam(encoder.parameters(), lr=1e-3)\n",
        "    criterion = NTXentLoss()\n",
        "    for epoch in range(epochs):\n",
        "        encoder.train()\n",
        "        total_loss = 0\n",
        "        for x1, x2 in tqdm(loader, desc=f\"SimCLR Epoch {epoch+1}\"):\n",
        "            x1, x2 = x1.to(device), x2.to(device)\n",
        "            z1 = encoder(x1,return_proj=True)\n",
        "            z2 = encoder(x2,return_proj=True)\n",
        "            loss = criterion(z1, z2)\n",
        "            optimizer.zero_grad()\n",
        "            loss.backward()\n",
        "            optimizer.step()\n",
        "            total_loss += loss.item()\n",
        "        print(f\"Epoch {epoch+1} Loss: {total_loss/len(loader):.4f}\")\n",
        "\n",
        "def train_classifier(encoder, loader, val_loader=None, epochs=10, device='cuda'):\n",
        "    encoder = encoder.to(device)\n",
        "    encoder.eval()  # freeze\n",
        "    classifier = nn.Linear(128, 2).to(device)\n",
        "    optimizer = torch.optim.Adam(classifier.parameters(), lr=1e-3)\n",
        "\n",
        "    # 計算類別權重\n",
        "    label_counts = Counter(train_df['label'])\n",
        "    total = sum(label_counts.values())\n",
        "    class_weights = [total / label_counts[i] for i in range(len(label_counts))]\n",
        "    class_weights = torch.tensor(class_weights, dtype=torch.float).to(device)\n",
        "    criterion = nn.CrossEntropyLoss(weight=class_weights)\n",
        "\n",
        "    train_accs, val_accs = [], []\n",
        "\n",
        "    for epoch in range(epochs):\n",
        "        classifier.train()\n",
        "        all_preds, all_labels = [], []\n",
        "        for x, y in tqdm(loader, desc=f\"Classifier Epoch {epoch+1}\"):\n",
        "            x, y = x.to(device), y.to(device)\n",
        "            with torch.no_grad():\n",
        "                feat = encoder(x,return_proj=False)\n",
        "            out = classifier(feat)\n",
        "            loss = criterion(out, y)\n",
        "            optimizer.zero_grad()\n",
        "            loss.backward()\n",
        "            optimizer.step()\n",
        "            preds = out.argmax(dim=1)\n",
        "            all_preds.extend(preds.cpu().numpy())\n",
        "            all_labels.extend(y.cpu().numpy())\n",
        "        acc = accuracy_score(all_labels, all_preds)\n",
        "        train_accs.append(acc)\n",
        "        print(f\"Epoch {epoch+1} Train Acc: {acc:.4f}\")\n",
        "\n",
        "        if val_loader:\n",
        "            classifier.eval()\n",
        "            val_preds, val_labels = [], []\n",
        "            for x, y in val_loader:\n",
        "                x, y = x.to(device), y.to(device)\n",
        "                with torch.no_grad():\n",
        "                    feat = encoder(x,return_proj=False)\n",
        "                    out = classifier(feat)\n",
        "                    preds = out.argmax(dim=1)\n",
        "                val_preds.extend(preds.cpu().numpy())\n",
        "                val_labels.extend(y.cpu().numpy())\n",
        "            val_acc = accuracy_score(val_labels, val_preds)\n",
        "            val_accs.append(val_acc)\n",
        "            print(f\"Epoch {epoch+1} Val Acc: {val_acc:.4f}\")\n",
        "\n",
        "    # Plot accuracy\n",
        "    plt.plot(train_accs, label='Train Acc')\n",
        "    if val_loader:\n",
        "        plt.plot(val_accs, label='Val Acc')\n",
        "    plt.xlabel(\"Epoch\")\n",
        "    plt.ylabel(\"Accuracy\")\n",
        "    plt.legend()\n",
        "    plt.title(\"Classification Accuracy\")\n",
        "    plt.show()\n",
        "\n",
        "    # Classification report\n",
        "    print(\"Classification Report:\\n\", classification_report(all_labels, all_preds))\n",
        "    cm = confusion_matrix(all_labels, all_preds)\n",
        "    sns.heatmap(cm, annot=True, fmt='d', cmap='Blues')\n",
        "    plt.title(\"Confusion Matrix\")\n",
        "    plt.xlabel(\"Predicted\")\n",
        "    plt.ylabel(\"True\")\n",
        "    plt.show()\n"
      ],
      "metadata": {
        "id": "-n5Qu47ZH8-Z"
      },
      "id": "-n5Qu47ZH8-Z",
      "execution_count": 137,
      "outputs": []
    },
    {
      "cell_type": "markdown",
      "source": [
        "✅ 使用範例 (訓練流程)"
      ],
      "metadata": {
        "id": "HVsdCU2WIBEN"
      },
      "id": "HVsdCU2WIBEN"
    },
    {
      "cell_type": "code",
      "source": [
        "from sklearn.model_selection import train_test_split\n",
        "\n",
        "# 假設 df 裡有 'feature' (ndarray) 與 'label'\n",
        "train_df, val_df = train_test_split(df, test_size=0.2, stratify=df['label'])\n",
        "\n",
        "# ✅ 方案三：過採樣（OverSampling）或欠採樣（UnderSampling）\n",
        "from sklearn.utils import resample\n",
        "df_majority = train_df[train_df['label'] == 0]\n",
        "df_minority = train_df[train_df['label'] == 1]\n",
        "df_minority_upsampled = resample(df_minority,replace=True,n_samples=len(df_majority),random_state=42)\n",
        "train_df_balanced = pd.concat([df_majority, df_minority_upsampled])\n",
        "train_df = train_df_balanced\n",
        "\n",
        "preprocess = PosePreprocessor(target_frames=240)\n",
        "augment = PoseSimCLRAugmentation()\n",
        "\n",
        "# SimCLR pretrain\n",
        "simclr_dataset = SimCLRDataset(train_df, preprocess, augment)\n",
        "simclr_loader = DataLoader(simclr_dataset, batch_size=32, shuffle=True, drop_last=True)\n",
        "\n",
        "encoder = PoseEncoder()\n",
        "train_simclr(encoder, simclr_loader, epochs=100)\n",
        "\n",
        "# Linear classifier\n",
        "clf_train = ClassificationDataset(train_df, preprocess)\n",
        "clf_val = ClassificationDataset(val_df, preprocess)\n",
        "\n",
        "# 使用 WeightedRandomSampler 讓 DataLoader 平衡取樣\n",
        "from torch.utils.data import WeightedRandomSampler\n",
        "# 計算每個樣本的 weight\n",
        "labels = train_df['label'].values\n",
        "class_sample_count = np.array([np.sum(labels == t) for t in np.unique(labels)])\n",
        "weights = 1. / class_sample_count\n",
        "sample_weights = np.array([weights[t] for t in labels])\n",
        "sampler = WeightedRandomSampler(sample_weights, num_samples=len(sample_weights), replacement=True)\n",
        "train_loader = DataLoader(clf_train, batch_size=32,sampler=sampler)\n",
        "\n",
        "val_loader = DataLoader(clf_val, batch_size=32)\n",
        "train_classifier(encoder, train_loader, val_loader, epochs=10)\n"
      ],
      "metadata": {
        "id": "dyv3IgwRIBQV",
        "outputId": "e50e9433-e706-463e-9ca7-00910beaab87",
        "colab": {
          "base_uri": "https://localhost:8080/",
          "height": 1000
        }
      },
      "id": "dyv3IgwRIBQV",
      "execution_count": 138,
      "outputs": [
        {
          "output_type": "stream",
          "name": "stderr",
          "text": [
            "SimCLR Epoch 1: 100%|██████████| 6/6 [00:00<00:00, 24.34it/s]\n"
          ]
        },
        {
          "output_type": "stream",
          "name": "stdout",
          "text": [
            "Epoch 1 Loss: 3.9999\n"
          ]
        },
        {
          "output_type": "stream",
          "name": "stderr",
          "text": [
            "SimCLR Epoch 2: 100%|██████████| 6/6 [00:00<00:00, 25.47it/s]\n"
          ]
        },
        {
          "output_type": "stream",
          "name": "stdout",
          "text": [
            "Epoch 2 Loss: 3.4324\n"
          ]
        },
        {
          "output_type": "stream",
          "name": "stderr",
          "text": [
            "SimCLR Epoch 3: 100%|██████████| 6/6 [00:00<00:00, 25.67it/s]\n"
          ]
        },
        {
          "output_type": "stream",
          "name": "stdout",
          "text": [
            "Epoch 3 Loss: 3.2479\n"
          ]
        },
        {
          "output_type": "stream",
          "name": "stderr",
          "text": [
            "SimCLR Epoch 4: 100%|██████████| 6/6 [00:00<00:00, 24.66it/s]\n"
          ]
        },
        {
          "output_type": "stream",
          "name": "stdout",
          "text": [
            "Epoch 4 Loss: 3.1852\n"
          ]
        },
        {
          "output_type": "stream",
          "name": "stderr",
          "text": [
            "SimCLR Epoch 5: 100%|██████████| 6/6 [00:00<00:00, 26.05it/s]\n"
          ]
        },
        {
          "output_type": "stream",
          "name": "stdout",
          "text": [
            "Epoch 5 Loss: 3.1599\n"
          ]
        },
        {
          "output_type": "stream",
          "name": "stderr",
          "text": [
            "SimCLR Epoch 6: 100%|██████████| 6/6 [00:00<00:00, 23.88it/s]\n"
          ]
        },
        {
          "output_type": "stream",
          "name": "stdout",
          "text": [
            "Epoch 6 Loss: 3.1469\n"
          ]
        },
        {
          "output_type": "stream",
          "name": "stderr",
          "text": [
            "SimCLR Epoch 7: 100%|██████████| 6/6 [00:00<00:00, 25.55it/s]\n"
          ]
        },
        {
          "output_type": "stream",
          "name": "stdout",
          "text": [
            "Epoch 7 Loss: 3.0954\n"
          ]
        },
        {
          "output_type": "stream",
          "name": "stderr",
          "text": [
            "SimCLR Epoch 8: 100%|██████████| 6/6 [00:00<00:00, 24.64it/s]\n"
          ]
        },
        {
          "output_type": "stream",
          "name": "stdout",
          "text": [
            "Epoch 8 Loss: 3.0645\n"
          ]
        },
        {
          "output_type": "stream",
          "name": "stderr",
          "text": [
            "SimCLR Epoch 9: 100%|██████████| 6/6 [00:00<00:00, 25.46it/s]\n"
          ]
        },
        {
          "output_type": "stream",
          "name": "stdout",
          "text": [
            "Epoch 9 Loss: 3.1050\n"
          ]
        },
        {
          "output_type": "stream",
          "name": "stderr",
          "text": [
            "SimCLR Epoch 10: 100%|██████████| 6/6 [00:00<00:00, 25.75it/s]\n"
          ]
        },
        {
          "output_type": "stream",
          "name": "stdout",
          "text": [
            "Epoch 10 Loss: 3.0727\n"
          ]
        },
        {
          "output_type": "stream",
          "name": "stderr",
          "text": [
            "SimCLR Epoch 11: 100%|██████████| 6/6 [00:00<00:00, 25.97it/s]\n"
          ]
        },
        {
          "output_type": "stream",
          "name": "stdout",
          "text": [
            "Epoch 11 Loss: 3.0861\n"
          ]
        },
        {
          "output_type": "stream",
          "name": "stderr",
          "text": [
            "SimCLR Epoch 12: 100%|██████████| 6/6 [00:00<00:00, 25.96it/s]\n"
          ]
        },
        {
          "output_type": "stream",
          "name": "stdout",
          "text": [
            "Epoch 12 Loss: 3.0752\n"
          ]
        },
        {
          "output_type": "stream",
          "name": "stderr",
          "text": [
            "SimCLR Epoch 13: 100%|██████████| 6/6 [00:00<00:00, 24.46it/s]\n"
          ]
        },
        {
          "output_type": "stream",
          "name": "stdout",
          "text": [
            "Epoch 13 Loss: 3.0816\n"
          ]
        },
        {
          "output_type": "stream",
          "name": "stderr",
          "text": [
            "SimCLR Epoch 14: 100%|██████████| 6/6 [00:00<00:00, 26.46it/s]\n"
          ]
        },
        {
          "output_type": "stream",
          "name": "stdout",
          "text": [
            "Epoch 14 Loss: 3.0230\n"
          ]
        },
        {
          "output_type": "stream",
          "name": "stderr",
          "text": [
            "SimCLR Epoch 15: 100%|██████████| 6/6 [00:00<00:00, 25.66it/s]\n"
          ]
        },
        {
          "output_type": "stream",
          "name": "stdout",
          "text": [
            "Epoch 15 Loss: 3.0403\n"
          ]
        },
        {
          "output_type": "stream",
          "name": "stderr",
          "text": [
            "SimCLR Epoch 16: 100%|██████████| 6/6 [00:00<00:00, 25.98it/s]\n"
          ]
        },
        {
          "output_type": "stream",
          "name": "stdout",
          "text": [
            "Epoch 16 Loss: 3.0498\n"
          ]
        },
        {
          "output_type": "stream",
          "name": "stderr",
          "text": [
            "SimCLR Epoch 17: 100%|██████████| 6/6 [00:00<00:00, 25.09it/s]\n"
          ]
        },
        {
          "output_type": "stream",
          "name": "stdout",
          "text": [
            "Epoch 17 Loss: 3.0255\n"
          ]
        },
        {
          "output_type": "stream",
          "name": "stderr",
          "text": [
            "SimCLR Epoch 18: 100%|██████████| 6/6 [00:00<00:00, 25.03it/s]\n"
          ]
        },
        {
          "output_type": "stream",
          "name": "stdout",
          "text": [
            "Epoch 18 Loss: 2.9536\n"
          ]
        },
        {
          "output_type": "stream",
          "name": "stderr",
          "text": [
            "SimCLR Epoch 19: 100%|██████████| 6/6 [00:00<00:00, 25.60it/s]\n"
          ]
        },
        {
          "output_type": "stream",
          "name": "stdout",
          "text": [
            "Epoch 19 Loss: 3.0069\n"
          ]
        },
        {
          "output_type": "stream",
          "name": "stderr",
          "text": [
            "SimCLR Epoch 20: 100%|██████████| 6/6 [00:00<00:00, 26.11it/s]\n"
          ]
        },
        {
          "output_type": "stream",
          "name": "stdout",
          "text": [
            "Epoch 20 Loss: 2.9961\n"
          ]
        },
        {
          "output_type": "stream",
          "name": "stderr",
          "text": [
            "SimCLR Epoch 21: 100%|██████████| 6/6 [00:00<00:00, 25.40it/s]\n"
          ]
        },
        {
          "output_type": "stream",
          "name": "stdout",
          "text": [
            "Epoch 21 Loss: 2.9251\n"
          ]
        },
        {
          "output_type": "stream",
          "name": "stderr",
          "text": [
            "SimCLR Epoch 22: 100%|██████████| 6/6 [00:00<00:00, 25.65it/s]\n"
          ]
        },
        {
          "output_type": "stream",
          "name": "stdout",
          "text": [
            "Epoch 22 Loss: 2.9198\n"
          ]
        },
        {
          "output_type": "stream",
          "name": "stderr",
          "text": [
            "SimCLR Epoch 23: 100%|██████████| 6/6 [00:00<00:00, 25.86it/s]\n"
          ]
        },
        {
          "output_type": "stream",
          "name": "stdout",
          "text": [
            "Epoch 23 Loss: 2.8747\n"
          ]
        },
        {
          "output_type": "stream",
          "name": "stderr",
          "text": [
            "SimCLR Epoch 24: 100%|██████████| 6/6 [00:00<00:00, 17.32it/s]\n"
          ]
        },
        {
          "output_type": "stream",
          "name": "stdout",
          "text": [
            "Epoch 24 Loss: 2.9007\n"
          ]
        },
        {
          "output_type": "stream",
          "name": "stderr",
          "text": [
            "SimCLR Epoch 25: 100%|██████████| 6/6 [00:00<00:00, 20.66it/s]\n"
          ]
        },
        {
          "output_type": "stream",
          "name": "stdout",
          "text": [
            "Epoch 25 Loss: 2.8324\n"
          ]
        },
        {
          "output_type": "stream",
          "name": "stderr",
          "text": [
            "SimCLR Epoch 26: 100%|██████████| 6/6 [00:00<00:00, 26.54it/s]\n"
          ]
        },
        {
          "output_type": "stream",
          "name": "stdout",
          "text": [
            "Epoch 26 Loss: 2.8251\n"
          ]
        },
        {
          "output_type": "stream",
          "name": "stderr",
          "text": [
            "SimCLR Epoch 27: 100%|██████████| 6/6 [00:00<00:00, 25.75it/s]\n"
          ]
        },
        {
          "output_type": "stream",
          "name": "stdout",
          "text": [
            "Epoch 27 Loss: 2.8279\n"
          ]
        },
        {
          "output_type": "stream",
          "name": "stderr",
          "text": [
            "SimCLR Epoch 28: 100%|██████████| 6/6 [00:00<00:00, 25.55it/s]\n"
          ]
        },
        {
          "output_type": "stream",
          "name": "stdout",
          "text": [
            "Epoch 28 Loss: 2.7798\n"
          ]
        },
        {
          "output_type": "stream",
          "name": "stderr",
          "text": [
            "SimCLR Epoch 29: 100%|██████████| 6/6 [00:00<00:00, 24.61it/s]\n"
          ]
        },
        {
          "output_type": "stream",
          "name": "stdout",
          "text": [
            "Epoch 29 Loss: 2.7828\n"
          ]
        },
        {
          "output_type": "stream",
          "name": "stderr",
          "text": [
            "SimCLR Epoch 30: 100%|██████████| 6/6 [00:00<00:00, 19.21it/s]\n"
          ]
        },
        {
          "output_type": "stream",
          "name": "stdout",
          "text": [
            "Epoch 30 Loss: 2.7685\n"
          ]
        },
        {
          "output_type": "stream",
          "name": "stderr",
          "text": [
            "SimCLR Epoch 31: 100%|██████████| 6/6 [00:00<00:00, 17.42it/s]\n"
          ]
        },
        {
          "output_type": "stream",
          "name": "stdout",
          "text": [
            "Epoch 31 Loss: 2.7557\n"
          ]
        },
        {
          "output_type": "stream",
          "name": "stderr",
          "text": [
            "SimCLR Epoch 32: 100%|██████████| 6/6 [00:00<00:00, 17.82it/s]\n"
          ]
        },
        {
          "output_type": "stream",
          "name": "stdout",
          "text": [
            "Epoch 32 Loss: 2.7939\n"
          ]
        },
        {
          "output_type": "stream",
          "name": "stderr",
          "text": [
            "SimCLR Epoch 33: 100%|██████████| 6/6 [00:00<00:00, 18.28it/s]\n"
          ]
        },
        {
          "output_type": "stream",
          "name": "stdout",
          "text": [
            "Epoch 33 Loss: 2.7452\n"
          ]
        },
        {
          "output_type": "stream",
          "name": "stderr",
          "text": [
            "SimCLR Epoch 34: 100%|██████████| 6/6 [00:00<00:00, 17.87it/s]\n"
          ]
        },
        {
          "output_type": "stream",
          "name": "stdout",
          "text": [
            "Epoch 34 Loss: 2.7179\n"
          ]
        },
        {
          "output_type": "stream",
          "name": "stderr",
          "text": [
            "SimCLR Epoch 35: 100%|██████████| 6/6 [00:00<00:00, 18.18it/s]\n"
          ]
        },
        {
          "output_type": "stream",
          "name": "stdout",
          "text": [
            "Epoch 35 Loss: 2.7462\n"
          ]
        },
        {
          "output_type": "stream",
          "name": "stderr",
          "text": [
            "SimCLR Epoch 36: 100%|██████████| 6/6 [00:00<00:00, 16.75it/s]\n"
          ]
        },
        {
          "output_type": "stream",
          "name": "stdout",
          "text": [
            "Epoch 36 Loss: 2.7989\n"
          ]
        },
        {
          "output_type": "stream",
          "name": "stderr",
          "text": [
            "SimCLR Epoch 37: 100%|██████████| 6/6 [00:00<00:00, 17.22it/s]\n"
          ]
        },
        {
          "output_type": "stream",
          "name": "stdout",
          "text": [
            "Epoch 37 Loss: 2.6734\n"
          ]
        },
        {
          "output_type": "stream",
          "name": "stderr",
          "text": [
            "SimCLR Epoch 38: 100%|██████████| 6/6 [00:00<00:00, 16.74it/s]\n"
          ]
        },
        {
          "output_type": "stream",
          "name": "stdout",
          "text": [
            "Epoch 38 Loss: 2.7198\n"
          ]
        },
        {
          "output_type": "stream",
          "name": "stderr",
          "text": [
            "SimCLR Epoch 39: 100%|██████████| 6/6 [00:00<00:00, 18.57it/s]\n"
          ]
        },
        {
          "output_type": "stream",
          "name": "stdout",
          "text": [
            "Epoch 39 Loss: 2.6956\n"
          ]
        },
        {
          "output_type": "stream",
          "name": "stderr",
          "text": [
            "SimCLR Epoch 40: 100%|██████████| 6/6 [00:00<00:00, 25.99it/s]\n"
          ]
        },
        {
          "output_type": "stream",
          "name": "stdout",
          "text": [
            "Epoch 40 Loss: 2.6912\n"
          ]
        },
        {
          "output_type": "stream",
          "name": "stderr",
          "text": [
            "SimCLR Epoch 41: 100%|██████████| 6/6 [00:00<00:00, 24.94it/s]\n"
          ]
        },
        {
          "output_type": "stream",
          "name": "stdout",
          "text": [
            "Epoch 41 Loss: 2.6375\n"
          ]
        },
        {
          "output_type": "stream",
          "name": "stderr",
          "text": [
            "SimCLR Epoch 42: 100%|██████████| 6/6 [00:00<00:00, 25.09it/s]\n"
          ]
        },
        {
          "output_type": "stream",
          "name": "stdout",
          "text": [
            "Epoch 42 Loss: 2.6543\n"
          ]
        },
        {
          "output_type": "stream",
          "name": "stderr",
          "text": [
            "SimCLR Epoch 43: 100%|██████████| 6/6 [00:00<00:00, 25.03it/s]\n"
          ]
        },
        {
          "output_type": "stream",
          "name": "stdout",
          "text": [
            "Epoch 43 Loss: 2.6744\n"
          ]
        },
        {
          "output_type": "stream",
          "name": "stderr",
          "text": [
            "SimCLR Epoch 44: 100%|██████████| 6/6 [00:00<00:00, 23.99it/s]\n"
          ]
        },
        {
          "output_type": "stream",
          "name": "stdout",
          "text": [
            "Epoch 44 Loss: 2.6555\n"
          ]
        },
        {
          "output_type": "stream",
          "name": "stderr",
          "text": [
            "SimCLR Epoch 45: 100%|██████████| 6/6 [00:00<00:00, 25.89it/s]\n"
          ]
        },
        {
          "output_type": "stream",
          "name": "stdout",
          "text": [
            "Epoch 45 Loss: 2.6043\n"
          ]
        },
        {
          "output_type": "stream",
          "name": "stderr",
          "text": [
            "SimCLR Epoch 46: 100%|██████████| 6/6 [00:00<00:00, 25.59it/s]\n"
          ]
        },
        {
          "output_type": "stream",
          "name": "stdout",
          "text": [
            "Epoch 46 Loss: 2.6315\n"
          ]
        },
        {
          "output_type": "stream",
          "name": "stderr",
          "text": [
            "SimCLR Epoch 47: 100%|██████████| 6/6 [00:00<00:00, 25.02it/s]\n"
          ]
        },
        {
          "output_type": "stream",
          "name": "stdout",
          "text": [
            "Epoch 47 Loss: 2.6114\n"
          ]
        },
        {
          "output_type": "stream",
          "name": "stderr",
          "text": [
            "SimCLR Epoch 48: 100%|██████████| 6/6 [00:00<00:00, 25.88it/s]\n"
          ]
        },
        {
          "output_type": "stream",
          "name": "stdout",
          "text": [
            "Epoch 48 Loss: 2.5781\n"
          ]
        },
        {
          "output_type": "stream",
          "name": "stderr",
          "text": [
            "SimCLR Epoch 49: 100%|██████████| 6/6 [00:00<00:00, 25.79it/s]\n"
          ]
        },
        {
          "output_type": "stream",
          "name": "stdout",
          "text": [
            "Epoch 49 Loss: 2.6040\n"
          ]
        },
        {
          "output_type": "stream",
          "name": "stderr",
          "text": [
            "SimCLR Epoch 50: 100%|██████████| 6/6 [00:00<00:00, 26.54it/s]\n"
          ]
        },
        {
          "output_type": "stream",
          "name": "stdout",
          "text": [
            "Epoch 50 Loss: 2.5999\n"
          ]
        },
        {
          "output_type": "stream",
          "name": "stderr",
          "text": [
            "SimCLR Epoch 51: 100%|██████████| 6/6 [00:00<00:00, 24.76it/s]\n"
          ]
        },
        {
          "output_type": "stream",
          "name": "stdout",
          "text": [
            "Epoch 51 Loss: 2.6020\n"
          ]
        },
        {
          "output_type": "stream",
          "name": "stderr",
          "text": [
            "SimCLR Epoch 52: 100%|██████████| 6/6 [00:00<00:00, 25.79it/s]\n"
          ]
        },
        {
          "output_type": "stream",
          "name": "stdout",
          "text": [
            "Epoch 52 Loss: 2.6230\n"
          ]
        },
        {
          "output_type": "stream",
          "name": "stderr",
          "text": [
            "SimCLR Epoch 53: 100%|██████████| 6/6 [00:00<00:00, 25.73it/s]\n"
          ]
        },
        {
          "output_type": "stream",
          "name": "stdout",
          "text": [
            "Epoch 53 Loss: 2.6167\n"
          ]
        },
        {
          "output_type": "stream",
          "name": "stderr",
          "text": [
            "SimCLR Epoch 54: 100%|██████████| 6/6 [00:00<00:00, 26.15it/s]\n"
          ]
        },
        {
          "output_type": "stream",
          "name": "stdout",
          "text": [
            "Epoch 54 Loss: 2.6438\n"
          ]
        },
        {
          "output_type": "stream",
          "name": "stderr",
          "text": [
            "SimCLR Epoch 55: 100%|██████████| 6/6 [00:00<00:00, 26.25it/s]\n"
          ]
        },
        {
          "output_type": "stream",
          "name": "stdout",
          "text": [
            "Epoch 55 Loss: 2.5728\n"
          ]
        },
        {
          "output_type": "stream",
          "name": "stderr",
          "text": [
            "SimCLR Epoch 56: 100%|██████████| 6/6 [00:00<00:00, 24.26it/s]\n"
          ]
        },
        {
          "output_type": "stream",
          "name": "stdout",
          "text": [
            "Epoch 56 Loss: 2.5958\n"
          ]
        },
        {
          "output_type": "stream",
          "name": "stderr",
          "text": [
            "SimCLR Epoch 57: 100%|██████████| 6/6 [00:00<00:00, 26.36it/s]\n"
          ]
        },
        {
          "output_type": "stream",
          "name": "stdout",
          "text": [
            "Epoch 57 Loss: 2.5808\n"
          ]
        },
        {
          "output_type": "stream",
          "name": "stderr",
          "text": [
            "SimCLR Epoch 58: 100%|██████████| 6/6 [00:00<00:00, 26.25it/s]\n"
          ]
        },
        {
          "output_type": "stream",
          "name": "stdout",
          "text": [
            "Epoch 58 Loss: 2.5993\n"
          ]
        },
        {
          "output_type": "stream",
          "name": "stderr",
          "text": [
            "SimCLR Epoch 59: 100%|██████████| 6/6 [00:00<00:00, 25.69it/s]\n"
          ]
        },
        {
          "output_type": "stream",
          "name": "stdout",
          "text": [
            "Epoch 59 Loss: 2.6138\n"
          ]
        },
        {
          "output_type": "stream",
          "name": "stderr",
          "text": [
            "SimCLR Epoch 60: 100%|██████████| 6/6 [00:00<00:00, 24.45it/s]\n"
          ]
        },
        {
          "output_type": "stream",
          "name": "stdout",
          "text": [
            "Epoch 60 Loss: 2.6241\n"
          ]
        },
        {
          "output_type": "stream",
          "name": "stderr",
          "text": [
            "SimCLR Epoch 61: 100%|██████████| 6/6 [00:00<00:00, 25.81it/s]\n"
          ]
        },
        {
          "output_type": "stream",
          "name": "stdout",
          "text": [
            "Epoch 61 Loss: 2.6047\n"
          ]
        },
        {
          "output_type": "stream",
          "name": "stderr",
          "text": [
            "SimCLR Epoch 62: 100%|██████████| 6/6 [00:00<00:00, 25.84it/s]\n"
          ]
        },
        {
          "output_type": "stream",
          "name": "stdout",
          "text": [
            "Epoch 62 Loss: 2.5708\n"
          ]
        },
        {
          "output_type": "stream",
          "name": "stderr",
          "text": [
            "SimCLR Epoch 63: 100%|██████████| 6/6 [00:00<00:00, 24.77it/s]\n"
          ]
        },
        {
          "output_type": "stream",
          "name": "stdout",
          "text": [
            "Epoch 63 Loss: 2.6049\n"
          ]
        },
        {
          "output_type": "stream",
          "name": "stderr",
          "text": [
            "SimCLR Epoch 64: 100%|██████████| 6/6 [00:00<00:00, 24.18it/s]\n"
          ]
        },
        {
          "output_type": "stream",
          "name": "stdout",
          "text": [
            "Epoch 64 Loss: 2.5473\n"
          ]
        },
        {
          "output_type": "stream",
          "name": "stderr",
          "text": [
            "SimCLR Epoch 65: 100%|██████████| 6/6 [00:00<00:00, 26.12it/s]\n"
          ]
        },
        {
          "output_type": "stream",
          "name": "stdout",
          "text": [
            "Epoch 65 Loss: 2.5807\n"
          ]
        },
        {
          "output_type": "stream",
          "name": "stderr",
          "text": [
            "SimCLR Epoch 66: 100%|██████████| 6/6 [00:00<00:00, 25.82it/s]\n"
          ]
        },
        {
          "output_type": "stream",
          "name": "stdout",
          "text": [
            "Epoch 66 Loss: 2.6021\n"
          ]
        },
        {
          "output_type": "stream",
          "name": "stderr",
          "text": [
            "SimCLR Epoch 67: 100%|██████████| 6/6 [00:00<00:00, 25.56it/s]\n"
          ]
        },
        {
          "output_type": "stream",
          "name": "stdout",
          "text": [
            "Epoch 67 Loss: 2.5938\n"
          ]
        },
        {
          "output_type": "stream",
          "name": "stderr",
          "text": [
            "SimCLR Epoch 68: 100%|██████████| 6/6 [00:00<00:00, 26.30it/s]\n"
          ]
        },
        {
          "output_type": "stream",
          "name": "stdout",
          "text": [
            "Epoch 68 Loss: 2.6069\n"
          ]
        },
        {
          "output_type": "stream",
          "name": "stderr",
          "text": [
            "SimCLR Epoch 69: 100%|██████████| 6/6 [00:00<00:00, 23.92it/s]\n"
          ]
        },
        {
          "output_type": "stream",
          "name": "stdout",
          "text": [
            "Epoch 69 Loss: 2.5803\n"
          ]
        },
        {
          "output_type": "stream",
          "name": "stderr",
          "text": [
            "SimCLR Epoch 70: 100%|██████████| 6/6 [00:00<00:00, 25.59it/s]\n"
          ]
        },
        {
          "output_type": "stream",
          "name": "stdout",
          "text": [
            "Epoch 70 Loss: 2.5981\n"
          ]
        },
        {
          "output_type": "stream",
          "name": "stderr",
          "text": [
            "SimCLR Epoch 71: 100%|██████████| 6/6 [00:00<00:00, 25.83it/s]\n"
          ]
        },
        {
          "output_type": "stream",
          "name": "stdout",
          "text": [
            "Epoch 71 Loss: 2.5728\n"
          ]
        },
        {
          "output_type": "stream",
          "name": "stderr",
          "text": [
            "SimCLR Epoch 72: 100%|██████████| 6/6 [00:00<00:00, 26.00it/s]\n"
          ]
        },
        {
          "output_type": "stream",
          "name": "stdout",
          "text": [
            "Epoch 72 Loss: 2.5619\n"
          ]
        },
        {
          "output_type": "stream",
          "name": "stderr",
          "text": [
            "SimCLR Epoch 73: 100%|██████████| 6/6 [00:00<00:00, 24.19it/s]\n"
          ]
        },
        {
          "output_type": "stream",
          "name": "stdout",
          "text": [
            "Epoch 73 Loss: 2.5697\n"
          ]
        },
        {
          "output_type": "stream",
          "name": "stderr",
          "text": [
            "SimCLR Epoch 74: 100%|██████████| 6/6 [00:00<00:00, 25.47it/s]\n"
          ]
        },
        {
          "output_type": "stream",
          "name": "stdout",
          "text": [
            "Epoch 74 Loss: 2.5852\n"
          ]
        },
        {
          "output_type": "stream",
          "name": "stderr",
          "text": [
            "SimCLR Epoch 75: 100%|██████████| 6/6 [00:00<00:00, 26.15it/s]\n"
          ]
        },
        {
          "output_type": "stream",
          "name": "stdout",
          "text": [
            "Epoch 75 Loss: 2.5487\n"
          ]
        },
        {
          "output_type": "stream",
          "name": "stderr",
          "text": [
            "SimCLR Epoch 76: 100%|██████████| 6/6 [00:00<00:00, 25.82it/s]\n"
          ]
        },
        {
          "output_type": "stream",
          "name": "stdout",
          "text": [
            "Epoch 76 Loss: 2.5604\n"
          ]
        },
        {
          "output_type": "stream",
          "name": "stderr",
          "text": [
            "SimCLR Epoch 77: 100%|██████████| 6/6 [00:00<00:00, 24.43it/s]\n"
          ]
        },
        {
          "output_type": "stream",
          "name": "stdout",
          "text": [
            "Epoch 77 Loss: 2.6025\n"
          ]
        },
        {
          "output_type": "stream",
          "name": "stderr",
          "text": [
            "SimCLR Epoch 78: 100%|██████████| 6/6 [00:00<00:00, 25.34it/s]\n"
          ]
        },
        {
          "output_type": "stream",
          "name": "stdout",
          "text": [
            "Epoch 78 Loss: 2.6237\n"
          ]
        },
        {
          "output_type": "stream",
          "name": "stderr",
          "text": [
            "SimCLR Epoch 79: 100%|██████████| 6/6 [00:00<00:00, 26.36it/s]\n"
          ]
        },
        {
          "output_type": "stream",
          "name": "stdout",
          "text": [
            "Epoch 79 Loss: 2.5658\n"
          ]
        },
        {
          "output_type": "stream",
          "name": "stderr",
          "text": [
            "SimCLR Epoch 80: 100%|██████████| 6/6 [00:00<00:00, 26.04it/s]\n"
          ]
        },
        {
          "output_type": "stream",
          "name": "stdout",
          "text": [
            "Epoch 80 Loss: 2.5260\n"
          ]
        },
        {
          "output_type": "stream",
          "name": "stderr",
          "text": [
            "SimCLR Epoch 81: 100%|██████████| 6/6 [00:00<00:00, 19.92it/s]\n"
          ]
        },
        {
          "output_type": "stream",
          "name": "stdout",
          "text": [
            "Epoch 81 Loss: 2.5382\n"
          ]
        },
        {
          "output_type": "stream",
          "name": "stderr",
          "text": [
            "SimCLR Epoch 82: 100%|██████████| 6/6 [00:00<00:00, 17.42it/s]\n"
          ]
        },
        {
          "output_type": "stream",
          "name": "stdout",
          "text": [
            "Epoch 82 Loss: 2.5494\n"
          ]
        },
        {
          "output_type": "stream",
          "name": "stderr",
          "text": [
            "SimCLR Epoch 83: 100%|██████████| 6/6 [00:00<00:00, 17.93it/s]\n"
          ]
        },
        {
          "output_type": "stream",
          "name": "stdout",
          "text": [
            "Epoch 83 Loss: 2.5446\n"
          ]
        },
        {
          "output_type": "stream",
          "name": "stderr",
          "text": [
            "SimCLR Epoch 84: 100%|██████████| 6/6 [00:00<00:00, 16.40it/s]\n"
          ]
        },
        {
          "output_type": "stream",
          "name": "stdout",
          "text": [
            "Epoch 84 Loss: 2.5507\n"
          ]
        },
        {
          "output_type": "stream",
          "name": "stderr",
          "text": [
            "SimCLR Epoch 85: 100%|██████████| 6/6 [00:00<00:00, 16.96it/s]\n"
          ]
        },
        {
          "output_type": "stream",
          "name": "stdout",
          "text": [
            "Epoch 85 Loss: 2.5536\n"
          ]
        },
        {
          "output_type": "stream",
          "name": "stderr",
          "text": [
            "SimCLR Epoch 86: 100%|██████████| 6/6 [00:00<00:00, 17.91it/s]\n"
          ]
        },
        {
          "output_type": "stream",
          "name": "stdout",
          "text": [
            "Epoch 86 Loss: 2.5387\n"
          ]
        },
        {
          "output_type": "stream",
          "name": "stderr",
          "text": [
            "SimCLR Epoch 87: 100%|██████████| 6/6 [00:00<00:00, 17.50it/s]\n"
          ]
        },
        {
          "output_type": "stream",
          "name": "stdout",
          "text": [
            "Epoch 87 Loss: 2.5323\n"
          ]
        },
        {
          "output_type": "stream",
          "name": "stderr",
          "text": [
            "SimCLR Epoch 88: 100%|██████████| 6/6 [00:00<00:00, 16.42it/s]\n"
          ]
        },
        {
          "output_type": "stream",
          "name": "stdout",
          "text": [
            "Epoch 88 Loss: 2.5296\n"
          ]
        },
        {
          "output_type": "stream",
          "name": "stderr",
          "text": [
            "SimCLR Epoch 89: 100%|██████████| 6/6 [00:00<00:00, 16.36it/s]\n"
          ]
        },
        {
          "output_type": "stream",
          "name": "stdout",
          "text": [
            "Epoch 89 Loss: 2.5596\n"
          ]
        },
        {
          "output_type": "stream",
          "name": "stderr",
          "text": [
            "SimCLR Epoch 90: 100%|██████████| 6/6 [00:00<00:00, 17.56it/s]\n"
          ]
        },
        {
          "output_type": "stream",
          "name": "stdout",
          "text": [
            "Epoch 90 Loss: 2.5211\n"
          ]
        },
        {
          "output_type": "stream",
          "name": "stderr",
          "text": [
            "SimCLR Epoch 91: 100%|██████████| 6/6 [00:00<00:00, 24.75it/s]\n"
          ]
        },
        {
          "output_type": "stream",
          "name": "stdout",
          "text": [
            "Epoch 91 Loss: 2.5237\n"
          ]
        },
        {
          "output_type": "stream",
          "name": "stderr",
          "text": [
            "SimCLR Epoch 92: 100%|██████████| 6/6 [00:00<00:00, 25.63it/s]\n"
          ]
        },
        {
          "output_type": "stream",
          "name": "stdout",
          "text": [
            "Epoch 92 Loss: 2.5327\n"
          ]
        },
        {
          "output_type": "stream",
          "name": "stderr",
          "text": [
            "SimCLR Epoch 93: 100%|██████████| 6/6 [00:00<00:00, 26.15it/s]\n"
          ]
        },
        {
          "output_type": "stream",
          "name": "stdout",
          "text": [
            "Epoch 93 Loss: 2.5660\n"
          ]
        },
        {
          "output_type": "stream",
          "name": "stderr",
          "text": [
            "SimCLR Epoch 94: 100%|██████████| 6/6 [00:00<00:00, 25.75it/s]\n"
          ]
        },
        {
          "output_type": "stream",
          "name": "stdout",
          "text": [
            "Epoch 94 Loss: 2.5492\n"
          ]
        },
        {
          "output_type": "stream",
          "name": "stderr",
          "text": [
            "SimCLR Epoch 95: 100%|██████████| 6/6 [00:00<00:00, 24.64it/s]\n"
          ]
        },
        {
          "output_type": "stream",
          "name": "stdout",
          "text": [
            "Epoch 95 Loss: 2.5447\n"
          ]
        },
        {
          "output_type": "stream",
          "name": "stderr",
          "text": [
            "SimCLR Epoch 96: 100%|██████████| 6/6 [00:00<00:00, 26.07it/s]\n"
          ]
        },
        {
          "output_type": "stream",
          "name": "stdout",
          "text": [
            "Epoch 96 Loss: 2.5571\n"
          ]
        },
        {
          "output_type": "stream",
          "name": "stderr",
          "text": [
            "SimCLR Epoch 97: 100%|██████████| 6/6 [00:00<00:00, 25.80it/s]\n"
          ]
        },
        {
          "output_type": "stream",
          "name": "stdout",
          "text": [
            "Epoch 97 Loss: 2.5590\n"
          ]
        },
        {
          "output_type": "stream",
          "name": "stderr",
          "text": [
            "SimCLR Epoch 98: 100%|██████████| 6/6 [00:00<00:00, 25.87it/s]\n"
          ]
        },
        {
          "output_type": "stream",
          "name": "stdout",
          "text": [
            "Epoch 98 Loss: 2.5579\n"
          ]
        },
        {
          "output_type": "stream",
          "name": "stderr",
          "text": [
            "SimCLR Epoch 99: 100%|██████████| 6/6 [00:00<00:00, 24.62it/s]\n"
          ]
        },
        {
          "output_type": "stream",
          "name": "stdout",
          "text": [
            "Epoch 99 Loss: 2.5322\n"
          ]
        },
        {
          "output_type": "stream",
          "name": "stderr",
          "text": [
            "SimCLR Epoch 100: 100%|██████████| 6/6 [00:00<00:00, 25.63it/s]\n"
          ]
        },
        {
          "output_type": "stream",
          "name": "stdout",
          "text": [
            "Epoch 100 Loss: 2.5133\n"
          ]
        },
        {
          "output_type": "stream",
          "name": "stderr",
          "text": [
            "Classifier Epoch 1: 100%|██████████| 7/7 [00:00<00:00, 90.28it/s]\n"
          ]
        },
        {
          "output_type": "stream",
          "name": "stdout",
          "text": [
            "Epoch 1 Train Acc: 0.4409\n",
            "Epoch 1 Val Acc: 0.3000\n"
          ]
        },
        {
          "output_type": "stream",
          "name": "stderr",
          "text": [
            "Classifier Epoch 2: 100%|██████████| 7/7 [00:00<00:00, 83.99it/s]\n"
          ]
        },
        {
          "output_type": "stream",
          "name": "stdout",
          "text": [
            "Epoch 2 Train Acc: 0.4636\n",
            "Epoch 2 Val Acc: 0.3000\n"
          ]
        },
        {
          "output_type": "stream",
          "name": "stderr",
          "text": [
            "Classifier Epoch 3: 100%|██████████| 7/7 [00:00<00:00, 89.83it/s]\n"
          ]
        },
        {
          "output_type": "stream",
          "name": "stdout",
          "text": [
            "Epoch 3 Train Acc: 0.5227\n",
            "Epoch 3 Val Acc: 0.3250\n"
          ]
        },
        {
          "output_type": "stream",
          "name": "stderr",
          "text": [
            "Classifier Epoch 4: 100%|██████████| 7/7 [00:00<00:00, 87.89it/s]\n"
          ]
        },
        {
          "output_type": "stream",
          "name": "stdout",
          "text": [
            "Epoch 4 Train Acc: 0.5182\n",
            "Epoch 4 Val Acc: 0.3500\n"
          ]
        },
        {
          "output_type": "stream",
          "name": "stderr",
          "text": [
            "Classifier Epoch 5: 100%|██████████| 7/7 [00:00<00:00, 92.47it/s]\n"
          ]
        },
        {
          "output_type": "stream",
          "name": "stdout",
          "text": [
            "Epoch 5 Train Acc: 0.4727\n",
            "Epoch 5 Val Acc: 0.4000\n"
          ]
        },
        {
          "output_type": "stream",
          "name": "stderr",
          "text": [
            "Classifier Epoch 6: 100%|██████████| 7/7 [00:00<00:00, 89.38it/s]\n"
          ]
        },
        {
          "output_type": "stream",
          "name": "stdout",
          "text": [
            "Epoch 6 Train Acc: 0.5409\n",
            "Epoch 6 Val Acc: 0.4500\n"
          ]
        },
        {
          "output_type": "stream",
          "name": "stderr",
          "text": [
            "Classifier Epoch 7: 100%|██████████| 7/7 [00:00<00:00, 93.60it/s]\n"
          ]
        },
        {
          "output_type": "stream",
          "name": "stdout",
          "text": [
            "Epoch 7 Train Acc: 0.5636\n",
            "Epoch 7 Val Acc: 0.4750\n"
          ]
        },
        {
          "output_type": "stream",
          "name": "stderr",
          "text": [
            "Classifier Epoch 8: 100%|██████████| 7/7 [00:00<00:00, 79.94it/s]"
          ]
        },
        {
          "output_type": "stream",
          "name": "stdout",
          "text": [
            "Epoch 8 Train Acc: 0.5591\n"
          ]
        },
        {
          "output_type": "stream",
          "name": "stderr",
          "text": [
            "\n"
          ]
        },
        {
          "output_type": "stream",
          "name": "stdout",
          "text": [
            "Epoch 8 Val Acc: 0.4750\n"
          ]
        },
        {
          "output_type": "stream",
          "name": "stderr",
          "text": [
            "Classifier Epoch 9: 100%|██████████| 7/7 [00:00<00:00, 90.35it/s]"
          ]
        },
        {
          "output_type": "stream",
          "name": "stdout",
          "text": [
            "Epoch 9 Train Acc: 0.5182\n"
          ]
        },
        {
          "output_type": "stream",
          "name": "stderr",
          "text": [
            "\n"
          ]
        },
        {
          "output_type": "stream",
          "name": "stdout",
          "text": [
            "Epoch 9 Val Acc: 0.3500\n"
          ]
        },
        {
          "output_type": "stream",
          "name": "stderr",
          "text": [
            "Classifier Epoch 10: 100%|██████████| 7/7 [00:00<00:00, 89.93it/s]\n"
          ]
        },
        {
          "output_type": "stream",
          "name": "stdout",
          "text": [
            "Epoch 10 Train Acc: 0.5227\n",
            "Epoch 10 Val Acc: 0.3250\n"
          ]
        },
        {
          "output_type": "display_data",
          "data": {
            "text/plain": [
              "<Figure size 640x480 with 1 Axes>"
            ],
            "image/png": "[encoded data removed]"
          },
          "metadata": {}
        },
        {
          "output_type": "stream",
          "name": "stdout",
          "text": [
            "Classification Report:\n",
            "               precision    recall  f1-score   support\n",
            "\n",
            "           0       0.44      0.16      0.23       101\n",
            "           1       0.54      0.83      0.65       119\n",
            "\n",
            "    accuracy                           0.52       220\n",
            "   macro avg       0.49      0.50      0.44       220\n",
            "weighted avg       0.50      0.52      0.46       220\n",
            "\n"
          ]
        },
        {
          "output_type": "display_data",
          "data": {
            "text/plain": [
              "<Figure size 640x480 with 2 Axes>"
            ],
            "image/png": "[encoded data removed]"
          },
          "metadata": {}
        }
      ]
    }
  ],
  "metadata": {
    "kernelspec": {
      "display_name": "Python 3",
      "name": "python3"
    },
    "language_info": {
      "codemirror_mode": {
        "name": "ipython",
        "version": 3
      },
      "file_extension": ".py",
      "mimetype": "text/x-python",
      "name": "python",
      "nbconvert_exporter": "python",
      "pygments_lexer": "ipython3",
      "version": "3.9.23"
    },
    "colab": {
      "provenance": [],
      "gpuType": "T4"
    },
    "accelerator": "GPU"
  },
  "nbformat": 4,
  "nbformat_minor": 5
}